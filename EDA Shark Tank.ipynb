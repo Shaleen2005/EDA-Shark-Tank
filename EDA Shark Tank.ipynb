{
 "cells": [
  {
   "cell_type": "code",
   "execution_count": 1,
   "id": "f86bb966",
   "metadata": {},
   "outputs": [],
   "source": [
    "import pandas as pd\n",
    "import matplotlib.pyplot as plt\n",
    "import numpy as np"
   ]
  },
  {
   "cell_type": "code",
   "execution_count": 2,
   "id": "4fc11c23",
   "metadata": {},
   "outputs": [],
   "source": [
    "df=pd.read_excel('EDA_Shark_Tank_India.xlsx')"
   ]
  },
  {
   "cell_type": "code",
   "execution_count": 3,
   "id": "e992a7cf",
   "metadata": {},
   "outputs": [
    {
     "data": {
      "text/html": [
       "<div>\n",
       "<style scoped>\n",
       "    .dataframe tbody tr th:only-of-type {\n",
       "        vertical-align: middle;\n",
       "    }\n",
       "\n",
       "    .dataframe tbody tr th {\n",
       "        vertical-align: top;\n",
       "    }\n",
       "\n",
       "    .dataframe thead th {\n",
       "        text-align: right;\n",
       "    }\n",
       "</style>\n",
       "<table border=\"1\" class=\"dataframe\">\n",
       "  <thead>\n",
       "    <tr style=\"text-align: right;\">\n",
       "      <th></th>\n",
       "      <th>episode_number</th>\n",
       "      <th>pitch_number</th>\n",
       "      <th>brand_name</th>\n",
       "      <th>idea</th>\n",
       "      <th>deal</th>\n",
       "      <th>pitcher_ask_amount</th>\n",
       "      <th>ask_equity</th>\n",
       "      <th>ask_valuation</th>\n",
       "      <th>deal_amount</th>\n",
       "      <th>deal_equity</th>\n",
       "      <th>...</th>\n",
       "      <th>ashneer_deal</th>\n",
       "      <th>anupam_deal</th>\n",
       "      <th>aman_deal</th>\n",
       "      <th>namita_deal</th>\n",
       "      <th>vineeta_deal</th>\n",
       "      <th>peyush_deal</th>\n",
       "      <th>ghazal_deal</th>\n",
       "      <th>total_sharks_invested</th>\n",
       "      <th>amount_per_shark</th>\n",
       "      <th>equity_per_shark</th>\n",
       "    </tr>\n",
       "  </thead>\n",
       "  <tbody>\n",
       "    <tr>\n",
       "      <th>0</th>\n",
       "      <td>1</td>\n",
       "      <td>1</td>\n",
       "      <td>BluePine Industries</td>\n",
       "      <td>Frozen Momos</td>\n",
       "      <td>1</td>\n",
       "      <td>50.0</td>\n",
       "      <td>5.0</td>\n",
       "      <td>1000.00</td>\n",
       "      <td>75.0</td>\n",
       "      <td>16.00</td>\n",
       "      <td>...</td>\n",
       "      <td>1</td>\n",
       "      <td>0</td>\n",
       "      <td>1</td>\n",
       "      <td>0</td>\n",
       "      <td>1</td>\n",
       "      <td>0</td>\n",
       "      <td>0</td>\n",
       "      <td>3</td>\n",
       "      <td>25.0</td>\n",
       "      <td>5.333333</td>\n",
       "    </tr>\n",
       "    <tr>\n",
       "      <th>1</th>\n",
       "      <td>1</td>\n",
       "      <td>2</td>\n",
       "      <td>Booz scooters</td>\n",
       "      <td>Renting e-bike for mobility in private spaces</td>\n",
       "      <td>1</td>\n",
       "      <td>40.0</td>\n",
       "      <td>15.0</td>\n",
       "      <td>266.67</td>\n",
       "      <td>40.0</td>\n",
       "      <td>50.00</td>\n",
       "      <td>...</td>\n",
       "      <td>1</td>\n",
       "      <td>0</td>\n",
       "      <td>0</td>\n",
       "      <td>0</td>\n",
       "      <td>1</td>\n",
       "      <td>0</td>\n",
       "      <td>0</td>\n",
       "      <td>2</td>\n",
       "      <td>20.0</td>\n",
       "      <td>25.000000</td>\n",
       "    </tr>\n",
       "    <tr>\n",
       "      <th>2</th>\n",
       "      <td>1</td>\n",
       "      <td>3</td>\n",
       "      <td>Heart up my Sleeves</td>\n",
       "      <td>Detachable Sleeves</td>\n",
       "      <td>1</td>\n",
       "      <td>25.0</td>\n",
       "      <td>10.0</td>\n",
       "      <td>250.00</td>\n",
       "      <td>25.0</td>\n",
       "      <td>30.00</td>\n",
       "      <td>...</td>\n",
       "      <td>0</td>\n",
       "      <td>1</td>\n",
       "      <td>0</td>\n",
       "      <td>0</td>\n",
       "      <td>1</td>\n",
       "      <td>0</td>\n",
       "      <td>0</td>\n",
       "      <td>2</td>\n",
       "      <td>12.5</td>\n",
       "      <td>15.000000</td>\n",
       "    </tr>\n",
       "    <tr>\n",
       "      <th>3</th>\n",
       "      <td>2</td>\n",
       "      <td>4</td>\n",
       "      <td>Tagz Foods</td>\n",
       "      <td>Healthy Potato Chips</td>\n",
       "      <td>1</td>\n",
       "      <td>70.0</td>\n",
       "      <td>1.0</td>\n",
       "      <td>7000.00</td>\n",
       "      <td>70.0</td>\n",
       "      <td>2.75</td>\n",
       "      <td>...</td>\n",
       "      <td>1</td>\n",
       "      <td>0</td>\n",
       "      <td>0</td>\n",
       "      <td>0</td>\n",
       "      <td>0</td>\n",
       "      <td>0</td>\n",
       "      <td>0</td>\n",
       "      <td>1</td>\n",
       "      <td>70.0</td>\n",
       "      <td>2.750000</td>\n",
       "    </tr>\n",
       "    <tr>\n",
       "      <th>4</th>\n",
       "      <td>2</td>\n",
       "      <td>5</td>\n",
       "      <td>Head and Heart</td>\n",
       "      <td>Brain Development Course</td>\n",
       "      <td>0</td>\n",
       "      <td>50.0</td>\n",
       "      <td>5.0</td>\n",
       "      <td>1000.00</td>\n",
       "      <td>0.0</td>\n",
       "      <td>0.00</td>\n",
       "      <td>...</td>\n",
       "      <td>0</td>\n",
       "      <td>0</td>\n",
       "      <td>0</td>\n",
       "      <td>0</td>\n",
       "      <td>0</td>\n",
       "      <td>0</td>\n",
       "      <td>0</td>\n",
       "      <td>0</td>\n",
       "      <td>0.0</td>\n",
       "      <td>0.000000</td>\n",
       "    </tr>\n",
       "  </tbody>\n",
       "</table>\n",
       "<p>5 rows × 28 columns</p>\n",
       "</div>"
      ],
      "text/plain": [
       "   episode_number  pitch_number           brand_name  \\\n",
       "0               1             1  BluePine Industries   \n",
       "1               1             2        Booz scooters   \n",
       "2               1             3  Heart up my Sleeves   \n",
       "3               2             4           Tagz Foods   \n",
       "4               2             5       Head and Heart   \n",
       "\n",
       "                                            idea  deal  pitcher_ask_amount  \\\n",
       "0                                   Frozen Momos     1                50.0   \n",
       "1  Renting e-bike for mobility in private spaces     1                40.0   \n",
       "2                             Detachable Sleeves     1                25.0   \n",
       "3                           Healthy Potato Chips     1                70.0   \n",
       "4                       Brain Development Course     0                50.0   \n",
       "\n",
       "   ask_equity  ask_valuation  deal_amount  deal_equity  ...  ashneer_deal  \\\n",
       "0         5.0        1000.00         75.0        16.00  ...             1   \n",
       "1        15.0         266.67         40.0        50.00  ...             1   \n",
       "2        10.0         250.00         25.0        30.00  ...             0   \n",
       "3         1.0        7000.00         70.0         2.75  ...             1   \n",
       "4         5.0        1000.00          0.0         0.00  ...             0   \n",
       "\n",
       "   anupam_deal  aman_deal  namita_deal  vineeta_deal  peyush_deal  \\\n",
       "0            0          1            0             1            0   \n",
       "1            0          0            0             1            0   \n",
       "2            1          0            0             1            0   \n",
       "3            0          0            0             0            0   \n",
       "4            0          0            0             0            0   \n",
       "\n",
       "   ghazal_deal  total_sharks_invested  amount_per_shark  equity_per_shark  \n",
       "0            0                      3              25.0          5.333333  \n",
       "1            0                      2              20.0         25.000000  \n",
       "2            0                      2              12.5         15.000000  \n",
       "3            0                      1              70.0          2.750000  \n",
       "4            0                      0               0.0          0.000000  \n",
       "\n",
       "[5 rows x 28 columns]"
      ]
     },
     "execution_count": 3,
     "metadata": {},
     "output_type": "execute_result"
    }
   ],
   "source": [
    "df.head()"
   ]
  },
  {
   "cell_type": "code",
   "execution_count": 4,
   "id": "dc962dc2",
   "metadata": {},
   "outputs": [
    {
     "data": {
      "text/html": [
       "<div>\n",
       "<style scoped>\n",
       "    .dataframe tbody tr th:only-of-type {\n",
       "        vertical-align: middle;\n",
       "    }\n",
       "\n",
       "    .dataframe tbody tr th {\n",
       "        vertical-align: top;\n",
       "    }\n",
       "\n",
       "    .dataframe thead th {\n",
       "        text-align: right;\n",
       "    }\n",
       "</style>\n",
       "<table border=\"1\" class=\"dataframe\">\n",
       "  <thead>\n",
       "    <tr style=\"text-align: right;\">\n",
       "      <th></th>\n",
       "      <th>count</th>\n",
       "      <th>mean</th>\n",
       "      <th>std</th>\n",
       "      <th>min</th>\n",
       "      <th>25%</th>\n",
       "      <th>50%</th>\n",
       "      <th>75%</th>\n",
       "      <th>max</th>\n",
       "    </tr>\n",
       "  </thead>\n",
       "  <tbody>\n",
       "    <tr>\n",
       "      <th>episode_number</th>\n",
       "      <td>117.0</td>\n",
       "      <td>18.735043</td>\n",
       "      <td>10.070778</td>\n",
       "      <td>1.00000</td>\n",
       "      <td>10.00</td>\n",
       "      <td>19.00</td>\n",
       "      <td>27.00</td>\n",
       "      <td>35.00</td>\n",
       "    </tr>\n",
       "    <tr>\n",
       "      <th>pitch_number</th>\n",
       "      <td>117.0</td>\n",
       "      <td>59.000000</td>\n",
       "      <td>33.919021</td>\n",
       "      <td>1.00000</td>\n",
       "      <td>30.00</td>\n",
       "      <td>59.00</td>\n",
       "      <td>88.00</td>\n",
       "      <td>117.00</td>\n",
       "    </tr>\n",
       "    <tr>\n",
       "      <th>deal</th>\n",
       "      <td>117.0</td>\n",
       "      <td>0.555556</td>\n",
       "      <td>0.499041</td>\n",
       "      <td>0.00000</td>\n",
       "      <td>0.00</td>\n",
       "      <td>1.00</td>\n",
       "      <td>1.00</td>\n",
       "      <td>1.00</td>\n",
       "    </tr>\n",
       "    <tr>\n",
       "      <th>pitcher_ask_amount</th>\n",
       "      <td>117.0</td>\n",
       "      <td>319.854709</td>\n",
       "      <td>2767.842777</td>\n",
       "      <td>0.00101</td>\n",
       "      <td>45.00</td>\n",
       "      <td>50.00</td>\n",
       "      <td>80.00</td>\n",
       "      <td>30000.00</td>\n",
       "    </tr>\n",
       "    <tr>\n",
       "      <th>ask_equity</th>\n",
       "      <td>117.0</td>\n",
       "      <td>5.188034</td>\n",
       "      <td>3.892121</td>\n",
       "      <td>0.25000</td>\n",
       "      <td>2.50</td>\n",
       "      <td>5.00</td>\n",
       "      <td>7.50</td>\n",
       "      <td>25.00</td>\n",
       "    </tr>\n",
       "    <tr>\n",
       "      <th>ask_valuation</th>\n",
       "      <td>117.0</td>\n",
       "      <td>3852.462479</td>\n",
       "      <td>11931.601957</td>\n",
       "      <td>0.01000</td>\n",
       "      <td>666.67</td>\n",
       "      <td>1250.00</td>\n",
       "      <td>2857.14</td>\n",
       "      <td>120000.00</td>\n",
       "    </tr>\n",
       "    <tr>\n",
       "      <th>deal_amount</th>\n",
       "      <td>117.0</td>\n",
       "      <td>31.982915</td>\n",
       "      <td>36.687391</td>\n",
       "      <td>0.00000</td>\n",
       "      <td>0.00</td>\n",
       "      <td>25.00</td>\n",
       "      <td>50.00</td>\n",
       "      <td>150.00</td>\n",
       "    </tr>\n",
       "    <tr>\n",
       "      <th>deal_equity</th>\n",
       "      <td>117.0</td>\n",
       "      <td>8.963504</td>\n",
       "      <td>13.106769</td>\n",
       "      <td>0.00000</td>\n",
       "      <td>0.00</td>\n",
       "      <td>3.00</td>\n",
       "      <td>15.00</td>\n",
       "      <td>75.00</td>\n",
       "    </tr>\n",
       "    <tr>\n",
       "      <th>deal_valuation</th>\n",
       "      <td>117.0</td>\n",
       "      <td>467.104872</td>\n",
       "      <td>919.988864</td>\n",
       "      <td>0.00000</td>\n",
       "      <td>0.00</td>\n",
       "      <td>100.00</td>\n",
       "      <td>500.00</td>\n",
       "      <td>6666.67</td>\n",
       "    </tr>\n",
       "    <tr>\n",
       "      <th>ashneer_present</th>\n",
       "      <td>117.0</td>\n",
       "      <td>0.837607</td>\n",
       "      <td>0.370397</td>\n",
       "      <td>0.00000</td>\n",
       "      <td>1.00</td>\n",
       "      <td>1.00</td>\n",
       "      <td>1.00</td>\n",
       "      <td>1.00</td>\n",
       "    </tr>\n",
       "    <tr>\n",
       "      <th>anupam_present</th>\n",
       "      <td>117.0</td>\n",
       "      <td>1.000000</td>\n",
       "      <td>0.000000</td>\n",
       "      <td>1.00000</td>\n",
       "      <td>1.00</td>\n",
       "      <td>1.00</td>\n",
       "      <td>1.00</td>\n",
       "      <td>1.00</td>\n",
       "    </tr>\n",
       "    <tr>\n",
       "      <th>aman_present</th>\n",
       "      <td>117.0</td>\n",
       "      <td>0.837607</td>\n",
       "      <td>0.370397</td>\n",
       "      <td>0.00000</td>\n",
       "      <td>1.00</td>\n",
       "      <td>1.00</td>\n",
       "      <td>1.00</td>\n",
       "      <td>1.00</td>\n",
       "    </tr>\n",
       "    <tr>\n",
       "      <th>namita_present</th>\n",
       "      <td>117.0</td>\n",
       "      <td>0.905983</td>\n",
       "      <td>0.293108</td>\n",
       "      <td>0.00000</td>\n",
       "      <td>1.00</td>\n",
       "      <td>1.00</td>\n",
       "      <td>1.00</td>\n",
       "      <td>1.00</td>\n",
       "    </tr>\n",
       "    <tr>\n",
       "      <th>vineeta_present</th>\n",
       "      <td>117.0</td>\n",
       "      <td>0.564103</td>\n",
       "      <td>0.498007</td>\n",
       "      <td>0.00000</td>\n",
       "      <td>0.00</td>\n",
       "      <td>1.00</td>\n",
       "      <td>1.00</td>\n",
       "      <td>1.00</td>\n",
       "    </tr>\n",
       "    <tr>\n",
       "      <th>peyush_present</th>\n",
       "      <td>117.0</td>\n",
       "      <td>0.752137</td>\n",
       "      <td>0.433629</td>\n",
       "      <td>0.00000</td>\n",
       "      <td>1.00</td>\n",
       "      <td>1.00</td>\n",
       "      <td>1.00</td>\n",
       "      <td>1.00</td>\n",
       "    </tr>\n",
       "    <tr>\n",
       "      <th>ghazal_present</th>\n",
       "      <td>117.0</td>\n",
       "      <td>0.222222</td>\n",
       "      <td>0.417528</td>\n",
       "      <td>0.00000</td>\n",
       "      <td>0.00</td>\n",
       "      <td>0.00</td>\n",
       "      <td>0.00</td>\n",
       "      <td>1.00</td>\n",
       "    </tr>\n",
       "    <tr>\n",
       "      <th>ashneer_deal</th>\n",
       "      <td>117.0</td>\n",
       "      <td>0.179487</td>\n",
       "      <td>0.385410</td>\n",
       "      <td>0.00000</td>\n",
       "      <td>0.00</td>\n",
       "      <td>0.00</td>\n",
       "      <td>0.00</td>\n",
       "      <td>1.00</td>\n",
       "    </tr>\n",
       "    <tr>\n",
       "      <th>anupam_deal</th>\n",
       "      <td>117.0</td>\n",
       "      <td>0.205128</td>\n",
       "      <td>0.405532</td>\n",
       "      <td>0.00000</td>\n",
       "      <td>0.00</td>\n",
       "      <td>0.00</td>\n",
       "      <td>0.00</td>\n",
       "      <td>1.00</td>\n",
       "    </tr>\n",
       "    <tr>\n",
       "      <th>aman_deal</th>\n",
       "      <td>117.0</td>\n",
       "      <td>0.239316</td>\n",
       "      <td>0.428501</td>\n",
       "      <td>0.00000</td>\n",
       "      <td>0.00</td>\n",
       "      <td>0.00</td>\n",
       "      <td>0.00</td>\n",
       "      <td>1.00</td>\n",
       "    </tr>\n",
       "    <tr>\n",
       "      <th>namita_deal</th>\n",
       "      <td>117.0</td>\n",
       "      <td>0.188034</td>\n",
       "      <td>0.392420</td>\n",
       "      <td>0.00000</td>\n",
       "      <td>0.00</td>\n",
       "      <td>0.00</td>\n",
       "      <td>0.00</td>\n",
       "      <td>1.00</td>\n",
       "    </tr>\n",
       "    <tr>\n",
       "      <th>vineeta_deal</th>\n",
       "      <td>117.0</td>\n",
       "      <td>0.128205</td>\n",
       "      <td>0.335756</td>\n",
       "      <td>0.00000</td>\n",
       "      <td>0.00</td>\n",
       "      <td>0.00</td>\n",
       "      <td>0.00</td>\n",
       "      <td>1.00</td>\n",
       "    </tr>\n",
       "    <tr>\n",
       "      <th>peyush_deal</th>\n",
       "      <td>117.0</td>\n",
       "      <td>0.230769</td>\n",
       "      <td>0.423137</td>\n",
       "      <td>0.00000</td>\n",
       "      <td>0.00</td>\n",
       "      <td>0.00</td>\n",
       "      <td>0.00</td>\n",
       "      <td>1.00</td>\n",
       "    </tr>\n",
       "    <tr>\n",
       "      <th>ghazal_deal</th>\n",
       "      <td>117.0</td>\n",
       "      <td>0.059829</td>\n",
       "      <td>0.238190</td>\n",
       "      <td>0.00000</td>\n",
       "      <td>0.00</td>\n",
       "      <td>0.00</td>\n",
       "      <td>0.00</td>\n",
       "      <td>1.00</td>\n",
       "    </tr>\n",
       "    <tr>\n",
       "      <th>total_sharks_invested</th>\n",
       "      <td>117.0</td>\n",
       "      <td>1.230769</td>\n",
       "      <td>1.410457</td>\n",
       "      <td>0.00000</td>\n",
       "      <td>0.00</td>\n",
       "      <td>1.00</td>\n",
       "      <td>2.00</td>\n",
       "      <td>5.00</td>\n",
       "    </tr>\n",
       "    <tr>\n",
       "      <th>amount_per_shark</th>\n",
       "      <td>117.0</td>\n",
       "      <td>18.132481</td>\n",
       "      <td>23.588682</td>\n",
       "      <td>0.00000</td>\n",
       "      <td>0.00</td>\n",
       "      <td>10.00</td>\n",
       "      <td>25.00</td>\n",
       "      <td>100.00</td>\n",
       "    </tr>\n",
       "    <tr>\n",
       "      <th>equity_per_shark</th>\n",
       "      <td>117.0</td>\n",
       "      <td>5.583590</td>\n",
       "      <td>10.803799</td>\n",
       "      <td>0.00000</td>\n",
       "      <td>0.00</td>\n",
       "      <td>1.25</td>\n",
       "      <td>6.00</td>\n",
       "      <td>75.00</td>\n",
       "    </tr>\n",
       "  </tbody>\n",
       "</table>\n",
       "</div>"
      ],
      "text/plain": [
       "                       count         mean           std      min     25%  \\\n",
       "episode_number         117.0    18.735043     10.070778  1.00000   10.00   \n",
       "pitch_number           117.0    59.000000     33.919021  1.00000   30.00   \n",
       "deal                   117.0     0.555556      0.499041  0.00000    0.00   \n",
       "pitcher_ask_amount     117.0   319.854709   2767.842777  0.00101   45.00   \n",
       "ask_equity             117.0     5.188034      3.892121  0.25000    2.50   \n",
       "ask_valuation          117.0  3852.462479  11931.601957  0.01000  666.67   \n",
       "deal_amount            117.0    31.982915     36.687391  0.00000    0.00   \n",
       "deal_equity            117.0     8.963504     13.106769  0.00000    0.00   \n",
       "deal_valuation         117.0   467.104872    919.988864  0.00000    0.00   \n",
       "ashneer_present        117.0     0.837607      0.370397  0.00000    1.00   \n",
       "anupam_present         117.0     1.000000      0.000000  1.00000    1.00   \n",
       "aman_present           117.0     0.837607      0.370397  0.00000    1.00   \n",
       "namita_present         117.0     0.905983      0.293108  0.00000    1.00   \n",
       "vineeta_present        117.0     0.564103      0.498007  0.00000    0.00   \n",
       "peyush_present         117.0     0.752137      0.433629  0.00000    1.00   \n",
       "ghazal_present         117.0     0.222222      0.417528  0.00000    0.00   \n",
       "ashneer_deal           117.0     0.179487      0.385410  0.00000    0.00   \n",
       "anupam_deal            117.0     0.205128      0.405532  0.00000    0.00   \n",
       "aman_deal              117.0     0.239316      0.428501  0.00000    0.00   \n",
       "namita_deal            117.0     0.188034      0.392420  0.00000    0.00   \n",
       "vineeta_deal           117.0     0.128205      0.335756  0.00000    0.00   \n",
       "peyush_deal            117.0     0.230769      0.423137  0.00000    0.00   \n",
       "ghazal_deal            117.0     0.059829      0.238190  0.00000    0.00   \n",
       "total_sharks_invested  117.0     1.230769      1.410457  0.00000    0.00   \n",
       "amount_per_shark       117.0    18.132481     23.588682  0.00000    0.00   \n",
       "equity_per_shark       117.0     5.583590     10.803799  0.00000    0.00   \n",
       "\n",
       "                           50%      75%        max  \n",
       "episode_number           19.00    27.00      35.00  \n",
       "pitch_number             59.00    88.00     117.00  \n",
       "deal                      1.00     1.00       1.00  \n",
       "pitcher_ask_amount       50.00    80.00   30000.00  \n",
       "ask_equity                5.00     7.50      25.00  \n",
       "ask_valuation          1250.00  2857.14  120000.00  \n",
       "deal_amount              25.00    50.00     150.00  \n",
       "deal_equity               3.00    15.00      75.00  \n",
       "deal_valuation          100.00   500.00    6666.67  \n",
       "ashneer_present           1.00     1.00       1.00  \n",
       "anupam_present            1.00     1.00       1.00  \n",
       "aman_present              1.00     1.00       1.00  \n",
       "namita_present            1.00     1.00       1.00  \n",
       "vineeta_present           1.00     1.00       1.00  \n",
       "peyush_present            1.00     1.00       1.00  \n",
       "ghazal_present            0.00     0.00       1.00  \n",
       "ashneer_deal              0.00     0.00       1.00  \n",
       "anupam_deal               0.00     0.00       1.00  \n",
       "aman_deal                 0.00     0.00       1.00  \n",
       "namita_deal               0.00     0.00       1.00  \n",
       "vineeta_deal              0.00     0.00       1.00  \n",
       "peyush_deal               0.00     0.00       1.00  \n",
       "ghazal_deal               0.00     0.00       1.00  \n",
       "total_sharks_invested     1.00     2.00       5.00  \n",
       "amount_per_shark         10.00    25.00     100.00  \n",
       "equity_per_shark          1.25     6.00      75.00  "
      ]
     },
     "execution_count": 4,
     "metadata": {},
     "output_type": "execute_result"
    }
   ],
   "source": [
    "df.describe().T"
   ]
  },
  {
   "cell_type": "code",
   "execution_count": 5,
   "id": "57362efb",
   "metadata": {},
   "outputs": [
    {
     "data": {
      "text/plain": [
       "episode_number           0\n",
       "pitch_number             0\n",
       "brand_name               0\n",
       "idea                     0\n",
       "deal                     0\n",
       "pitcher_ask_amount       0\n",
       "ask_equity               0\n",
       "ask_valuation            0\n",
       "deal_amount              0\n",
       "deal_equity              0\n",
       "deal_valuation           0\n",
       "ashneer_present          0\n",
       "anupam_present           0\n",
       "aman_present             0\n",
       "namita_present           0\n",
       "vineeta_present          0\n",
       "peyush_present           0\n",
       "ghazal_present           0\n",
       "ashneer_deal             0\n",
       "anupam_deal              0\n",
       "aman_deal                0\n",
       "namita_deal              0\n",
       "vineeta_deal             0\n",
       "peyush_deal              0\n",
       "ghazal_deal              0\n",
       "total_sharks_invested    0\n",
       "amount_per_shark         0\n",
       "equity_per_shark         0\n",
       "dtype: int64"
      ]
     },
     "execution_count": 5,
     "metadata": {},
     "output_type": "execute_result"
    }
   ],
   "source": [
    "df.isnull().sum()"
   ]
  },
  {
   "cell_type": "markdown",
   "id": "990b9b60",
   "metadata": {},
   "source": []
  },
  {
   "cell_type": "markdown",
   "id": "47914f3f",
   "metadata": {},
   "source": []
  },
  {
   "cell_type": "code",
   "execution_count": 6,
   "id": "f40b221b",
   "metadata": {},
   "outputs": [
    {
     "data": {
      "text/plain": [
       "35"
      ]
     },
     "execution_count": 6,
     "metadata": {},
     "output_type": "execute_result"
    }
   ],
   "source": [
    "#Total Number of Episodes\n",
    "\n",
    "df['episode_number'].nunique()"
   ]
  },
  {
   "cell_type": "code",
   "execution_count": 7,
   "id": "51494483",
   "metadata": {},
   "outputs": [
    {
     "name": "stdout",
     "output_type": "stream",
     "text": [
      "Maximum asked amount: 30000.0\n",
      "Minimum asked amount: 0.00101\n",
      "Mean of asked amount: 319.8547094871795\n",
      "\n",
      "Maximum asked equity: 25.0\n",
      "Minimum asked equity: 0.25\n",
      "Mean of asked equity: 5.188034188034188\n",
      "\n",
      "Maximum asked valuation: 120000.0\n",
      "Minimum asked valuation: 0.01\n",
      "Mean of asked valuation: 3852.4624786324785\n"
     ]
    }
   ],
   "source": [
    "# Max, min , mean of asked amount,asked equity, asked valuation\n",
    "print ('Maximum asked amount:',df['pitcher_ask_amount'].max())\n",
    "print ('Minimum asked amount:',df['pitcher_ask_amount'].min())\n",
    "print('Mean of asked amount:',df['pitcher_ask_amount'].mean())\n",
    "print()\n",
    "print ('Maximum asked equity:',df['ask_equity'].max())\n",
    "print ('Minimum asked equity:',df['ask_equity'].min())\n",
    "print('Mean of asked equity:',df['ask_equity'].mean())\n",
    "print()\n",
    "print ('Maximum asked valuation:',df['ask_valuation'].max())\n",
    "print ('Minimum asked valuation:',df['ask_valuation'].min())\n",
    "print('Mean of asked valuation:',df['ask_valuation'].mean())"
   ]
  },
  {
   "cell_type": "code",
   "execution_count": 8,
   "id": "13149812",
   "metadata": {},
   "outputs": [
    {
     "data": {
      "image/png": "[encoded data removed]",
      "text/plain": [
       "<Figure size 640x480 with 1 Axes>"
      ]
     },
     "metadata": {},
     "output_type": "display_data"
    }
   ],
   "source": [
    "x=df.groupby('episode_number').min('ask_equity')\n",
    "y=df.groupby('episode_number').max('ask_equity')\n",
    "\n",
    "plt.plot(x['ask_equity'],label='Minimum Ask Equity')\n",
    "plt.plot(y['ask_equity'],label='Maximum Asked Equity')\n",
    "plt.title('Minimum & Maximum Asked Equity Episode Wise')\n",
    "\n",
    "\n",
    "plt.show()\n"
   ]
  },
  {
   "cell_type": "code",
   "execution_count": 9,
   "id": "ea6fb63f",
   "metadata": {},
   "outputs": [
    {
     "data": {
      "image/png": "[encoded data removed]",
      "text/plain": [
       "<Figure size 640x480 with 1 Axes>"
      ]
     },
     "metadata": {},
     "output_type": "display_data"
    }
   ],
   "source": [
    "a=df.groupby('episode_number').min('ask_valuation')\n",
    "b=df.groupby('episode_number').max('ask_valuation')\n",
    "plt.plot(a['ask_valuation'],label='Minimum Asked Valuation')\n",
    "plt.plot(b['ask_valuation'],label='Maximum Asked Valuation')\n",
    "plt.title('Minimum & Maximum Asked Valuation Episode Wise')\n",
    "\n",
    "plt.ylim(0,60000)\n",
    "plt.show()"
   ]
  },
  {
   "cell_type": "code",
   "execution_count": 10,
   "id": "586a9df0",
   "metadata": {},
   "outputs": [
    {
     "data": {
      "image/png": "[encoded data removed]",
      "text/plain": [
       "<Figure size 640x480 with 1 Axes>"
      ]
     },
     "metadata": {},
     "output_type": "display_data"
    }
   ],
   "source": [
    "m=df.groupby('episode_number').min('pitcher_ask_amount')\n",
    "n=df.groupby('episode_number').max('pitcher_ask_amount')\n",
    "plt.plot(m['pitcher_ask_amount'],label='Minimum Asked Amount')\n",
    "plt.plot(n['pitcher_ask_amount'],label='Maximum Asked Amount')\n",
    "plt.title('Minimum & Maximum Asked Amount Episode Wise')\n",
    "plt.ylim(0,400)\n",
    "plt.show()"
   ]
  },
  {
   "cell_type": "code",
   "execution_count": 11,
   "id": "f022ea1d",
   "metadata": {},
   "outputs": [
    {
     "data": {
      "text/plain": [
       "0                 BluePine Industries\n",
       "1                       Booz scooters\n",
       "2                 Heart up my Sleeves\n",
       "9                               Cosiq\n",
       "11                             Bummer\n",
       "12                        Revamp Moto\n",
       "18                 Raising Superstars\n",
       "21                       Beyond Snack\n",
       "22     Vivalyf Innovations- Easy Life\n",
       "24                              Altor\n",
       "25                              Ariro\n",
       "27                            Nuutjob\n",
       "28                           Meatyour\n",
       "29                          EventBeep\n",
       "32                              Farda\n",
       "35                               LOKA\n",
       "36                              Annie\n",
       "37                          Caragreen\n",
       "38                    The Yarn Bazaar\n",
       "39                  The Renal Project\n",
       "44                            Cocofit\n",
       "45                       Bamboo India\n",
       "47                       Beyond Water\n",
       "48                          Let's Try\n",
       "50                      Aas Vidyalaya\n",
       "58                            WeSTOCK\n",
       "64                         Get a Whey\n",
       "66                    The Quirky Nari\n",
       "67                     Hair Originals\n",
       "75                       The Sass Bar\n",
       "85                 Watt Technovations\n",
       "88                           Humpy A2\n",
       "90           Gold Safe Solutions Ind.\n",
       "91                        Wakao Foods\n",
       "95                       Kabaddi Adda\n",
       "108                        Tweek Labs\n",
       "109                            Proxgy\n",
       "110                Nomad Food Project\n",
       "114                     Jain Shikanji\n",
       "Name: brand_name, dtype: object"
      ]
     },
     "execution_count": 11,
     "metadata": {},
     "output_type": "execute_result"
    }
   ],
   "source": [
    "#Brand Names in which two, three or four sharks are invetsed\n",
    "\n",
    "df.query('total_sharks_invested==2 or total_sharks_invested==3 or total_sharks_invested==4')['brand_name']"
   ]
  },
  {
   "cell_type": "code",
   "execution_count": 12,
   "id": "383910ff",
   "metadata": {},
   "outputs": [
    {
     "data": {
      "text/plain": [
       "[<matplotlib.lines.Line2D at 0xf6744e1100>]"
      ]
     },
     "execution_count": 12,
     "metadata": {},
     "output_type": "execute_result"
    },
    {
     "data": {
      "image/png": "[encoded data removed]",
      "text/plain": [
       "<Figure size 640x480 with 1 Axes>"
      ]
     },
     "metadata": {},
     "output_type": "display_data"
    }
   ],
   "source": [
    "#Episode wise Maximum and minimum of Sharks Invested\n",
    "x=df.groupby('episode_number').min('total_sharks_invested')\n",
    "y=df.groupby('episode_number').max('total_sharks_invested')\n",
    "\n",
    "plt.plot(x['total_sharks_invested'])\n",
    "plt.plot(y['total_sharks_invested'])"
   ]
  },
  {
   "cell_type": "code",
   "execution_count": 13,
   "id": "2c778751",
   "metadata": {},
   "outputs": [
    {
     "data": {
      "text/html": [
       "<div>\n",
       "<style scoped>\n",
       "    .dataframe tbody tr th:only-of-type {\n",
       "        vertical-align: middle;\n",
       "    }\n",
       "\n",
       "    .dataframe tbody tr th {\n",
       "        vertical-align: top;\n",
       "    }\n",
       "\n",
       "    .dataframe thead tr th {\n",
       "        text-align: left;\n",
       "    }\n",
       "\n",
       "    .dataframe thead tr:last-of-type th {\n",
       "        text-align: right;\n",
       "    }\n",
       "</style>\n",
       "<table border=\"1\" class=\"dataframe\">\n",
       "  <thead>\n",
       "    <tr>\n",
       "      <th></th>\n",
       "      <th colspan=\"2\" halign=\"left\">deal_amount</th>\n",
       "    </tr>\n",
       "    <tr>\n",
       "      <th></th>\n",
       "      <th>max</th>\n",
       "      <th>min</th>\n",
       "    </tr>\n",
       "    <tr>\n",
       "      <th>brand_name</th>\n",
       "      <th></th>\n",
       "      <th></th>\n",
       "    </tr>\n",
       "  </thead>\n",
       "  <tbody>\n",
       "    <tr>\n",
       "      <th>ARRCOAT Surface Textures</th>\n",
       "      <td>50.00000</td>\n",
       "      <td>50.00000</td>\n",
       "    </tr>\n",
       "    <tr>\n",
       "      <th>Aas Vidyalaya</th>\n",
       "      <td>150.00000</td>\n",
       "      <td>150.00000</td>\n",
       "    </tr>\n",
       "    <tr>\n",
       "      <th>Agro tourism</th>\n",
       "      <td>0.00000</td>\n",
       "      <td>0.00000</td>\n",
       "    </tr>\n",
       "    <tr>\n",
       "      <th>Aliste Technologies</th>\n",
       "      <td>0.00000</td>\n",
       "      <td>0.00000</td>\n",
       "    </tr>\n",
       "    <tr>\n",
       "      <th>Alpino</th>\n",
       "      <td>0.00000</td>\n",
       "      <td>0.00000</td>\n",
       "    </tr>\n",
       "    <tr>\n",
       "      <th>...</th>\n",
       "      <td>...</td>\n",
       "      <td>...</td>\n",
       "    </tr>\n",
       "    <tr>\n",
       "      <th>Vivalyf Innovations- Easy Life</th>\n",
       "      <td>56.00000</td>\n",
       "      <td>56.00000</td>\n",
       "    </tr>\n",
       "    <tr>\n",
       "      <th>Wakao Foods</th>\n",
       "      <td>75.00000</td>\n",
       "      <td>75.00000</td>\n",
       "    </tr>\n",
       "    <tr>\n",
       "      <th>Watt Technovations</th>\n",
       "      <td>0.00101</td>\n",
       "      <td>0.00101</td>\n",
       "    </tr>\n",
       "    <tr>\n",
       "      <th>WeSTOCK</th>\n",
       "      <td>60.00000</td>\n",
       "      <td>60.00000</td>\n",
       "    </tr>\n",
       "    <tr>\n",
       "      <th>Woloo</th>\n",
       "      <td>0.00000</td>\n",
       "      <td>0.00000</td>\n",
       "    </tr>\n",
       "  </tbody>\n",
       "</table>\n",
       "<p>117 rows × 2 columns</p>\n",
       "</div>"
      ],
      "text/plain": [
       "                               deal_amount           \n",
       "                                       max        min\n",
       "brand_name                                           \n",
       "ARRCOAT Surface Textures          50.00000   50.00000\n",
       "Aas Vidyalaya                    150.00000  150.00000\n",
       "Agro tourism                       0.00000    0.00000\n",
       "Aliste Technologies                0.00000    0.00000\n",
       "Alpino                             0.00000    0.00000\n",
       "...                                    ...        ...\n",
       "Vivalyf Innovations- Easy Life    56.00000   56.00000\n",
       "Wakao Foods                       75.00000   75.00000\n",
       "Watt Technovations                 0.00101    0.00101\n",
       "WeSTOCK                           60.00000   60.00000\n",
       "Woloo                              0.00000    0.00000\n",
       "\n",
       "[117 rows x 2 columns]"
      ]
     },
     "execution_count": 13,
     "metadata": {},
     "output_type": "execute_result"
    }
   ],
   "source": [
    "#Max and min sharks invested in each brand\n",
    "df.groupby('brand_name').agg({'deal_amount':['max','min']})\n"
   ]
  },
  {
   "cell_type": "code",
   "execution_count": 14,
   "id": "eae0cc53",
   "metadata": {},
   "outputs": [
    {
     "data": {
      "text/plain": [
       "12            Revamp Moto\n",
       "39      The Renal Project\n",
       "55                   Otua\n",
       "64             Get a Whey\n",
       "71           Namhya Foods\n",
       "79    Sunfox Technologies\n",
       "87     Insurance Samadhan\n",
       "Name: brand_name, dtype: object"
      ]
     },
     "execution_count": 14,
     "metadata": {},
     "output_type": "execute_result"
    }
   ],
   "source": [
    "#Brand Names who ask for 1cr and got a deal\n",
    "df.query('pitcher_ask_amount==100 and deal==1')['brand_name']"
   ]
  },
  {
   "cell_type": "code",
   "execution_count": 15,
   "id": "631d5ca4",
   "metadata": {},
   "outputs": [
    {
     "data": {
      "text/plain": [
       "0      BluePine Industries\n",
       "1            Booz scooters\n",
       "2      Heart up my Sleeves\n",
       "3               Tagz Foods\n",
       "4           Head and Heart\n",
       "              ...         \n",
       "112          Green Protein\n",
       "113                On2Cook\n",
       "114          Jain Shikanji\n",
       "115                  Woloo\n",
       "116           Elcare India\n",
       "Name: brand_name, Length: 116, dtype: object"
      ]
     },
     "execution_count": 15,
     "metadata": {},
     "output_type": "execute_result"
    }
   ],
   "source": [
    "#Brand Names where deal equity is between 0 and 50\n",
    "df.query('deal_equity >=0 and deal_equity<=50')['brand_name']"
   ]
  },
  {
   "cell_type": "code",
   "execution_count": 16,
   "id": "dc6f1957",
   "metadata": {},
   "outputs": [
    {
     "data": {
      "text/plain": [
       "episode_number\n",
       "1     3\n",
       "2     3\n",
       "3     3\n",
       "4     3\n",
       "5     3\n",
       "6     3\n",
       "7     3\n",
       "8     3\n",
       "9     3\n",
       "10    3\n",
       "11    3\n",
       "12    3\n",
       "13    3\n",
       "14    3\n",
       "15    3\n",
       "16    4\n",
       "17    4\n",
       "18    4\n",
       "19    4\n",
       "20    3\n",
       "21    3\n",
       "22    4\n",
       "23    4\n",
       "24    3\n",
       "25    3\n",
       "26    3\n",
       "27    4\n",
       "28    3\n",
       "29    3\n",
       "30    4\n",
       "31    4\n",
       "32    4\n",
       "33    4\n",
       "34    4\n",
       "35    3\n",
       "Name: brand_name, dtype: int64"
      ]
     },
     "execution_count": 16,
     "metadata": {},
     "output_type": "execute_result"
    }
   ],
   "source": [
    "#Number of brands participated in each episode\n",
    "df.groupby('episode_number')['brand_name'].nunique()\n"
   ]
  },
  {
   "cell_type": "code",
   "execution_count": 17,
   "id": "9aed762c",
   "metadata": {},
   "outputs": [
    {
     "name": "stdout",
     "output_type": "stream",
     "text": [
      "ashneer\n",
      "anupam\n",
      "aman\n",
      "namita\n",
      "vineeta\n",
      "peyush\n",
      "ghazal\n",
      "Total number of sharks : 7\n"
     ]
    }
   ],
   "source": [
    "#How many sharks participated in the show and what were their names\n",
    "\n",
    "count=0\n",
    "for i in df.columns:\n",
    "    if '_present' in i:\n",
    "        count+=1\n",
    "        print(i.replace('_present',''))\n",
    "print('Total number of sharks :', count)"
   ]
  },
  {
   "cell_type": "code",
   "execution_count": 18,
   "id": "06144ca4",
   "metadata": {},
   "outputs": [
    {
     "name": "stdout",
     "output_type": "stream",
     "text": [
      "['ashneer', 'anupam', 'aman', 'namita', 'vineeta', 'peyush', 'ghazal']\n",
      "[98, 117, 98, 106, 66, 88, 26]\n"
     ]
    },
    {
     "data": {
      "text/plain": [
       "<BarContainer object of 7 artists>"
      ]
     },
     "execution_count": 18,
     "metadata": {},
     "output_type": "execute_result"
    },
    {
     "data": {
      "image/png": "[encoded data removed]",
      "text/plain": [
       "<Figure size 640x480 with 1 Axes>"
      ]
     },
     "metadata": {},
     "output_type": "display_data"
    }
   ],
   "source": [
    "#Find appearance of each shark\n",
    "sharks=[]\n",
    "appearance=[]\n",
    "for i in df.columns:\n",
    "    if'_present' in i:\n",
    "        sharks.append(i.replace('_present',''))\n",
    "        appearance.append(df[i].sum())\n",
    "print (sharks)\n",
    "print(appearance)\n",
    "plt.bar(sharks,appearance)\n"
   ]
  },
  {
   "cell_type": "code",
   "execution_count": 19,
   "id": "d7a9b746",
   "metadata": {},
   "outputs": [
    {
     "data": {
      "text/plain": [
       "117"
      ]
     },
     "execution_count": 19,
     "metadata": {},
     "output_type": "execute_result"
    }
   ],
   "source": [
    "#How many entrepreneurs were present\n",
    "df['brand_name'].count()"
   ]
  },
  {
   "cell_type": "code",
   "execution_count": 20,
   "id": "406a9928",
   "metadata": {},
   "outputs": [
    {
     "name": "stdout",
     "output_type": "stream",
     "text": [
      "['ashneer', 'anupam', 'aman', 'namita', 'vineeta', 'peyush', 'ghazal']\n",
      "[21, 24, 28, 22, 15, 27, 7]\n"
     ]
    },
    {
     "data": {
      "image/png": "[encoded data removed]",
      "text/plain": [
       "<Figure size 640x480 with 1 Axes>"
      ]
     },
     "metadata": {},
     "output_type": "display_data"
    }
   ],
   "source": [
    "#How many times each shark invested the deal\n",
    "\n",
    "sharks=[]\n",
    "deal=[]\n",
    "for i in df.columns:\n",
    "    if'_deal' in i:\n",
    "        sharks.append(i.replace('_deal',''))\n",
    "        deal.append(df[i].sum())\n",
    "print (sharks)\n",
    "print(deal)\n",
    "\n",
    "plt.bar(sharks,deal)\n",
    "plt.xlabel='Sharks'\n",
    "plt.ylabel='Number of deals'\n",
    "plt.show()"
   ]
  },
  {
   "cell_type": "code",
   "execution_count": 21,
   "id": "29cdfdaa",
   "metadata": {},
   "outputs": [
    {
     "name": "stdout",
     "output_type": "stream",
     "text": [
      "['ashneer', 'anupam', 'aman', 'namita', 'vineeta', 'peyush', 'ghazal']\n",
      "[93.249999999, 166.35, 160.263333334, 134.78333333400002, 131.533333333, 315.84999999999997, 46.7]\n"
     ]
    },
    {
     "data": {
      "text/plain": [
       "<BarContainer object of 7 artists>"
      ]
     },
     "execution_count": 21,
     "metadata": {},
     "output_type": "execute_result"
    },
    {
     "data": {
      "image/png": "[encoded data removed]",
      "text/plain": [
       "<Figure size 640x480 with 1 Axes>"
      ]
     },
     "metadata": {},
     "output_type": "display_data"
    }
   ],
   "source": [
    "#Find the equity percent that each shark gets\n",
    "\n",
    "equities=[]\n",
    "for cols in df.columns:\n",
    "    \n",
    "    if '_deal'in cols:\n",
    "           equity_perc=0\n",
    "           for ind in df.index:\n",
    "            if df[cols][ind]==1:\n",
    "                   equity_perc+=df['equity_per_shark'][ind]\n",
    "           equities.append(equity_perc)  \n",
    "print(sharks)\n",
    "print(equities)  \n",
    "plt.bar(sharks,equities)"
   ]
  },
  {
   "cell_type": "code",
   "execution_count": 22,
   "id": "a7ed591e",
   "metadata": {},
   "outputs": [
    {
     "data": {
      "text/plain": [
       "3742.00106"
      ]
     },
     "execution_count": 22,
     "metadata": {},
     "output_type": "execute_result"
    }
   ],
   "source": [
    "#Total number of amount invested in the show\n",
    "df['deal_amount'].sum()"
   ]
  },
  {
   "cell_type": "code",
   "execution_count": null,
   "id": "e8f20641",
   "metadata": {},
   "outputs": [],
   "source": []
  },
  {
   "cell_type": "code",
   "execution_count": null,
   "id": "3cacbc0c",
   "metadata": {},
   "outputs": [],
   "source": []
  },
  {
   "cell_type": "code",
   "execution_count": null,
   "id": "e2b6c233",
   "metadata": {},
   "outputs": [],
   "source": []
  }
 ],
 "metadata": {
  "kernelspec": {
   "display_name": "Python 3 (ipykernel)",
   "language": "python",
   "name": "python3"
  },
  "language_info": {
   "codemirror_mode": {
    "name": "ipython",
    "version": 3
   },
   "file_extension": ".py",
   "mimetype": "text/x-python",
   "name": "python",
   "nbconvert_exporter": "python",
   "pygments_lexer": "ipython3",
   "version": "3.9.13"
  }
 },
 "nbformat": 4,
 "nbformat_minor": 5
}
